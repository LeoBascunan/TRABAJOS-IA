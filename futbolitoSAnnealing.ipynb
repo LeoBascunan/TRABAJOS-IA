{
  "nbformat": 4,
  "nbformat_minor": 0,
  "metadata": {
    "colab": {
      "provenance": [],
      "authorship_tag": "ABX9TyOJaSgKr12V8C4tr3Fs8Vrx",
      "include_colab_link": true
    },
    "kernelspec": {
      "name": "python3",
      "display_name": "Python 3"
    },
    "language_info": {
      "name": "python"
    }
  },
  "cells": [
    {
      "cell_type": "markdown",
      "metadata": {
        "id": "view-in-github",
        "colab_type": "text"
      },
      "source": [
        "<a href=\"https://colab.research.google.com/github/LeoBascunan/TRABAJOS-IA/blob/main/futbolitoSAnnealing.ipynb\" target=\"_parent\"><img src=\"https://colab.research.google.com/assets/colab-badge.svg\" alt=\"Open In Colab\"/></a>"
      ]
    },
    {
      "cell_type": "code",
      "execution_count": 5,
      "metadata": {
        "colab": {
          "base_uri": "https://localhost:8080/"
        },
        "id": "UEqhoT-hDw84",
        "outputId": "c817db70-ff61-4193-bef2-84e6197d00fc"
      },
      "outputs": [
        {
          "output_type": "stream",
          "name": "stdout",
          "text": [
            "Equipo 1: ['Jugador10', 'Jugador11', 'Jugador7', 'Jugador3', 'Jugador8', 'Jugador6']\n",
            "Equipo 2: ['Jugador5', 'Jugador4', 'Jugador2', 'Jugador1', 'Jugador9', 'Jugador12']\n"
          ]
        }
      ],
      "source": [
        "import numpy as np\n",
        "\n",
        "# Función para calcular la suma de atributos de los jugadores en un equipo\n",
        "def calcular_total_atributos(equipo):\n",
        "    total = 0\n",
        "    for jugador in equipo:\n",
        "        total += sum(valor for clave, valor in jugador.items() if isinstance(valor, int))\n",
        "    return total\n",
        "\n",
        "def simulated_annealing(jugadores, num_iteraciones=10000, temperatura_inicial=1000):\n",
        "    # Inicialización de los equipos de forma aleatoria\n",
        "    np.random.shuffle(jugadores)\n",
        "    equipo1 = jugadores[:6]\n",
        "    equipo2 = jugadores[6:]\n",
        "\n",
        "    for i in range(num_iteraciones):\n",
        "        # Elegimos un jugador de cada equipo\n",
        "        jugador_equipo1 = np.random.choice(equipo1)\n",
        "        jugador_equipo2 = np.random.choice(equipo2)\n",
        "\n",
        "        # Calculamos la diferencia total de habilidades actual\n",
        "        diferencia_actual = abs(calcular_total_atributos(equipo1) - calcular_total_atributos(equipo2))\n",
        "\n",
        "        # Intercambiamos los jugadores\n",
        "        equipo1.remove(jugador_equipo1)\n",
        "        equipo2.remove(jugador_equipo2)\n",
        "        equipo1.append(jugador_equipo2)\n",
        "        equipo2.append(jugador_equipo1)\n",
        "\n",
        "        # Calculamos la nueva diferencia total de habilidades\n",
        "        nueva_diferencia = abs(calcular_total_atributos(equipo1) - calcular_total_atributos(equipo2))\n",
        "\n",
        "        # Si la nueva diferencia es peor y no aceptamos el cambio con una cierta probabilidad, deshacemos el intercambio\n",
        "        if (nueva_diferencia > diferencia_actual) and (np.random.rand() > np.exp((diferencia_actual - nueva_diferencia) / temperatura_inicial / (i + 1))):\n",
        "            equipo1.remove(jugador_equipo2)\n",
        "            equipo2.remove(jugador_equipo1)\n",
        "            equipo1.append(jugador_equipo1)\n",
        "            equipo2.append(jugador_equipo1)\n",
        "\n",
        "    return equipo1, equipo2\n",
        "\n",
        "jugadores = [\n",
        "    {'nombre': 'Jugador1', 'resistencia': 7, 'regate': 9, 'pase': 6, 'velocidad': 10},\n",
        "    {'nombre': 'Jugador2', 'resistencia': 6, 'regate': 7, 'pase': 8, 'velocidad': 5},\n",
        "    {'nombre': 'Jugador3', 'resistencia': 8, 'regate': 5, 'pase': 9, 'velocidad': 4},\n",
        "    {'nombre': 'Jugador4', 'resistencia': 5, 'regate': 6, 'pase': 7, 'velocidad': 8},\n",
        "    {'nombre': 'Jugador5', 'resistencia': 9, 'regate': 4, 'pase': 5, 'velocidad': 6},\n",
        "    {'nombre': 'Jugador6', 'resistencia': 10, 'regate': 8, 'pase': 4, 'velocidad': 7},\n",
        "    {'nombre': 'Jugador7', 'resistencia': 7, 'regate': 9, 'pase': 5, 'velocidad': 6},\n",
        "    {'nombre': 'Jugador8', 'resistencia': 6, 'regate': 7, 'pase': 8, 'velocidad': 9},\n",
        "    {'nombre': 'Jugador9', 'resistencia': 5, 'regate': 6, 'pase': 7, 'velocidad': 4},\n",
        "    {'nombre': 'Jugador10', 'resistencia': 8, 'regate': 4, 'pase': 6, 'velocidad': 7},\n",
        "    {'nombre': 'Jugador11', 'resistencia': 9, 'regate': 7, 'pase': 5, 'velocidad': 6},\n",
        "    {'nombre': 'Jugador12', 'resistencia': 1, 'regate': 1, 'pase': 1, 'velocidad': 1}\n",
        "]\n",
        "\n",
        "equipo1, equipo2 = simulated_annealing(jugadores)\n",
        "\n",
        "print(\"Equipo 1:\", [jugador['nombre'] for jugador in equipo1])\n",
        "print(\"Equipo 2:\", [jugador['nombre'] for jugador in equipo2])\n",
        "\n"
      ]
    }
  ]
}