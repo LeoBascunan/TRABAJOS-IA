{
  "nbformat": 4,
  "nbformat_minor": 0,
  "metadata": {
    "colab": {
      "provenance": [],
      "authorship_tag": "ABX9TyPeXD3t/mRoIGK8UsfWn2Ys",
      "include_colab_link": true
    },
    "kernelspec": {
      "name": "python3",
      "display_name": "Python 3"
    },
    "language_info": {
      "name": "python"
    }
  },
  "cells": [
    {
      "cell_type": "markdown",
      "metadata": {
        "id": "view-in-github",
        "colab_type": "text"
      },
      "source": [
        "<a href=\"https://colab.research.google.com/github/LeoBascunan/TRABAJOS-IA/blob/main/futbolito.ipynb\" target=\"_parent\"><img src=\"https://colab.research.google.com/assets/colab-badge.svg\" alt=\"Open In Colab\"/></a>"
      ]
    },
    {
      "cell_type": "code",
      "execution_count": 9,
      "metadata": {
        "colab": {
          "base_uri": "https://localhost:8080/"
        },
        "id": "-fAeX2_Xx72s",
        "outputId": "dfcfcfad-b75f-415f-dd29-edb36db3c712"
      },
      "outputs": [
        {
          "output_type": "stream",
          "name": "stdout",
          "text": [
            "Equipo 1: ['Jugador 1', 'Jugador 2', 'Jugador 3', 'Jugador 6', 'Jugador 7', 'Jugador 8']\n",
            "Equipo 2: ['Jugador 4', 'Jugador 5', 'Jugador 9', 'Jugador 10', 'Jugador 11', 'Jugador 12']\n"
          ]
        }
      ],
      "source": [
        "# Mejor diferencia inicializada a infinito para poder minimizarla\n",
        "mejor_diferencia = float('inf')\n",
        "# Los mejores equipos inicializados a vacío\n",
        "mejor_equipo1 = []\n",
        "mejor_equipo2 = []\n",
        "\n",
        "# Función para calcular el total de los atributos de los jugadores en un equipo\n",
        "def calcular_total_atributos(equipo):\n",
        "    total = 0\n",
        "    for jugador in equipo:\n",
        "        total += jugador['resistencia'] + jugador['regate'] + jugador['pase'] + jugador['velocidad']\n",
        "    return total\n",
        "\n",
        "# Función de backtracking para formar equipos\n",
        "def formar_equipos(jugadores, equipo1=[], equipo2=[]):\n",
        "    global mejor_diferencia, mejor_equipo1, mejor_equipo2\n",
        "\n",
        "    # Si algún equipo tiene más de 6 jugadores, no seguimos explorando esa opción\n",
        "    if len(equipo1) > 6 or len(equipo2) > 6:\n",
        "        return\n",
        "\n",
        "    # Si no hay más jugadores para asignar\n",
        "    if len(jugadores) == 0:\n",
        "        if len(equipo1) == 6 and len(equipo2) == 6:\n",
        "            # Calculamos la diferencia de atributos entre los equipos\n",
        "            diferencia = abs(calcular_total_atributos(equipo1) - calcular_total_atributos(equipo2))\n",
        "            # Si la diferencia es menor que la mejor encontrada hasta ahora\n",
        "            if diferencia < mejor_diferencia:\n",
        "                # Actualizamos la mejor diferencia y los mejores equipos\n",
        "                mejor_diferencia = diferencia\n",
        "                mejor_equipo1 = list(equipo1)\n",
        "                mejor_equipo2 = list(equipo2)\n",
        "        return\n",
        "    # Tomamos el primer jugador que queda por asignar\n",
        "    jugador = jugadores[0]\n",
        "    # Intentamos ponerlo en el equipo 1\n",
        "    equipo1.append(jugador)\n",
        "    formar_equipos(jugadores[1:], equipo1, equipo2)\n",
        "    equipo1.pop() # Quitamos al jugador del equipo 1 (backtracking)\n",
        "\n",
        "    # Intentamos ponerlo en el equipo 2\n",
        "    equipo2.append(jugador)\n",
        "    formar_equipos(jugadores[1:], equipo1, equipo2)\n",
        "    equipo2.pop() # Quitamos al jugador del equipo 2 (backtracking)\n",
        "\n",
        "jugadores = [\n",
        "    {'nombre': 'Jugador 1', 'resistencia': 1, 'regate': 1, 'pase': 1, 'velocidad': 1}, \n",
        "    {'nombre': 'Jugador 2', 'resistencia': 1, 'regate': 1, 'pase': 1, 'velocidad': 1},\n",
        "    {'nombre': 'Jugador 3', 'resistencia': 1, 'regate': 1, 'pase': 1, 'velocidad': 1},\n",
        "    {'nombre': 'Jugador 4', 'resistencia': 1, 'regate': 1, 'pase': 1, 'velocidad': 1},\n",
        "    {'nombre': 'Jugador 5', 'resistencia': 1, 'regate': 1, 'pase': 1, 'velocidad': 1},\n",
        "    {'nombre': 'Jugador 6', 'resistencia': 8, 'regate': 9, 'pase': 7, 'velocidad': 6},\n",
        "    {'nombre': 'Jugador 7', 'resistencia': 7, 'regate': 1, 'pase': 9, 'velocidad': 8},\n",
        "    {'nombre': 'Jugador 8', 'resistencia': 9, 'regate': 7, 'pase': 1, 'velocidad': 6},\n",
        "    {'nombre': 'Jugador 9', 'resistencia': 6, 'regate': 1, 'pase': 7, 'velocidad': 9},\n",
        "    {'nombre': 'Jugador 10', 'resistencia': 7, 'regate': 9, 'pase': 6, 'velocidad': 10},\n",
        "    {'nombre': 'Jugador 11', 'resistencia': 1, 'regate': 7, 'pase': 9, 'velocidad': 8},\n",
        "    {'nombre': 'Jugador 12', 'resistencia': 1, 'regate': 1, 'pase': 1, 'velocidad': 1}\n",
        "]\n",
        "\n",
        "formar_equipos(jugadores)\n",
        "print(\"Equipo 1:\", [jugador['nombre'] for jugador in mejor_equipo1])\n",
        "print(\"Equipo 2:\", [jugador['nombre'] for jugador in mejor_equipo2])\n"
      ]
    }
  ]
}